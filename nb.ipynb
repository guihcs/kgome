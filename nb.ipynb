{
 "cells": [
  {
   "cell_type": "code",
   "execution_count": null,
   "outputs": [],
   "source": [
    "!ls /moredata/gsantos/canard/onts"
   ],
   "metadata": {
    "collapsed": false,
    "pycharm": {
     "name": "#%%\n"
    }
   }
  },
  {
   "cell_type": "code",
   "execution_count": 1,
   "outputs": [
    {
     "name": "stderr",
     "output_type": "stream",
     "text": [
      "/home/guilherme/PycharmProjects/kgome/venv/lib/python3.9/site-packages/om/ont.py:7: TqdmExperimentalWarning: Using `tqdm.autonotebook.tqdm` in notebook mode. Use `tqdm.tqdm` instead to force console mode (e.g. in jupyter console)\n",
      "  from tqdm.autonotebook import tqdm\n"
     ]
    }
   ],
   "source": [
    "from om.match import onts, aligns\n",
    "from om.ont import split_entity, pt, remove_bn\n",
    "from om.util import Cross\n",
    "from termcolor import colored\n",
    "import torch\n",
    "import torch.nn as nn\n",
    "import torch.nn.functional as F\n",
    "import numpy as np\n",
    "from tqdm.notebook import tqdm\n",
    "from torch.utils.data import Dataset, DataLoader\n",
    "import torch.optim as optim\n",
    "import matplotlib.pyplot as plt\n",
    "from om.match import Runner, print_result, Step\n",
    "from om.util import Cross, get_vocab, WordMap\n",
    "import math\n",
    "import random\n",
    "import pandas as pd\n",
    "from om.ont import get_n, noisy_copy, remove_bn\n",
    "from rdflib import Graph, URIRef, BNode, Literal, Namespace\n",
    "from rdflib.namespace import RDF, RDFS, OWL\n",
    "import os\n",
    "from pymagnitude import *\n",
    "from gensim.parsing.preprocessing import STOPWORDS\n",
    "import math\n",
    "import os"
   ],
   "metadata": {
    "collapsed": false,
    "pycharm": {
     "name": "#%%\n"
    }
   }
  },
  {
   "cell_type": "code",
   "execution_count": 65,
   "outputs": [],
   "source": [
    "class MDataset(Dataset):\n",
    "\n",
    "    def __init__(self, dtsn, als, g1, g2, tb=1, fb=1, cache=False, cacheLen=500000):\n",
    "        self.transform = None\n",
    "        self.cache = cache\n",
    "        self.cacheLen = cacheLen\n",
    "        self.dtsn = dtsn + '-cache.bin'\n",
    "        if os.path.exists(self.dtsn):\n",
    "            os.remove(self.dtsn)\n",
    "\n",
    "        self.g1 = g1\n",
    "        self.g2 = g2\n",
    "        self.als = als\n",
    "\n",
    "        with torch.no_grad():\n",
    "            self.ents1, self.adj1, self.pdj1 = build_adj(self.g1)\n",
    "            self.ents2, self.adj2, self.pdj2 = build_adj(self.g2)\n",
    "\n",
    "        tc = 0\n",
    "        nc = 0\n",
    "        self.data = []\n",
    "        self.dl = 0\n",
    "        self.li = -1 if self.cache else 0\n",
    "        self.mi = -1\n",
    "\n",
    "        for e1 in tqdm(set(self.g1.subjects())):\n",
    "            for e2 in set(self.g2.subjects()):\n",
    "                if random.random() < (1 - fb):\n",
    "                    continue\n",
    "                sim = torch.Tensor([1 if (e1, e2) in self.als else -1])\n",
    "\n",
    "                for _ in range(1 if sim != 1 else tb):\n",
    "                    if sim != 1:\n",
    "                        nc += 1\n",
    "                    else:\n",
    "                        tc += 1\n",
    "                    self.dl += 1\n",
    "\n",
    "                    self.data.append((e1, e2, sim))\n",
    "\n",
    "                    if self.cache and len(self.data) >= self.cacheLen:\n",
    "                        random.shuffle(self.data)\n",
    "                        self._cache()\n",
    "                        self.data = []\n",
    "\n",
    "        if self.cache:\n",
    "            random.shuffle(self.data)\n",
    "            self._cache()\n",
    "            self.data = []\n",
    "\n",
    "        print(f'{len(self)} instances. {tc} true, {nc} false.')\n",
    "\n",
    "    def _cache(self):\n",
    "        lines = []\n",
    "        for e1, e2, s in self.data:\n",
    "            lines.append(str(e1).encode('utf-8').ljust(500) + str(e2).encode('utf-8').ljust(500) + str(s.item()).encode(\n",
    "                'utf-8').ljust(50))\n",
    "\n",
    "        with open(self.dtsn, 'ab') as f:\n",
    "            f.writelines(lines)\n",
    "\n",
    "    def _loadblock(self, i, ml):\n",
    "        self.data = []\n",
    "        ls = 500 + 500 + 50\n",
    "\n",
    "        with open(self.dtsn, 'rb') as f:\n",
    "            f.seek(i * ls)\n",
    "            rd = f.read(ml * ls)\n",
    "\n",
    "        for fi in range(ml):\n",
    "            line = rd[fi * ls:(fi + 1) * ls]\n",
    "            u1 = line[:500].decode('utf-8').strip()\n",
    "            u2 = line[500:1000].decode('utf-8').strip()\n",
    "            s = line[1000:1050].decode('utf-8').strip()\n",
    "\n",
    "            self.data.append((URIRef(u1), URIRef(u2), torch.Tensor([float(s)])))\n",
    "\n",
    "        self.li = i\n",
    "        self.mi = i + ml\n",
    "\n",
    "    def __getitem__(self, i):\n",
    "        if self.cache and (i >= self.mi or i < self.li):\n",
    "            self._loadblock(i, min(self.dl - i, 200000))\n",
    "\n",
    "        return self.data[i - self.li]\n",
    "\n",
    "    def __len__(self):\n",
    "        return self.dl\n",
    "\n",
    "\n",
    "class MatchDataset(MDataset):\n",
    "\n",
    "    def __init__(self, r, o1, o2, tb=1):\n",
    "        g1 = Graph()\n",
    "        g1.parse(o1)\n",
    "        g2 = Graph()\n",
    "        g2.parse(o2)\n",
    "\n",
    "        als = set(map(lambda x: (URIRef(x[0]), URIRef(x[1])), aligns(r)))\n",
    "\n",
    "        super().__init__('none', als, g1, g2, tb=tb)\n"
   ],
   "metadata": {
    "collapsed": false,
    "pycharm": {
     "name": "#%%\n"
    }
   }
  },
  {
   "cell_type": "code",
   "execution_count": 2,
   "outputs": [],
   "source": [
    "def build_adj(g):\n",
    "    ents = list(get_vocab(g))\n",
    "\n",
    "    random.shuffle(ents)\n",
    "    l = len(ents)\n",
    "    adj = torch.zeros((l, l))\n",
    "    pdj = -torch.ones((l, l))\n",
    "\n",
    "    wm = WordMap(ents)\n",
    "\n",
    "    for s, p, o in g:\n",
    "\n",
    "        adj[wm[s]][wm[o]] = 1\n",
    "        pdj[wm[s]][wm[o]] = wm[p]\n",
    "\n",
    "        if (s, RDFS.domain, None) in g and (s, RDFS.range, None) in g:\n",
    "            domain = g.value(s, RDFS.domain)\n",
    "            rg = g.value(s, RDFS.range)\n",
    "\n",
    "            adj[wm[domain]][wm[rg]] = 1\n",
    "            pdj[wm[s]][wm[o]] = wm[s]\n",
    "\n",
    "            adj[wm[rg]][wm[domain]] = -1\n",
    "            pdj[wm[rg]][wm[domain]] = wm[s]\n",
    "\n",
    "        if (s, RDFS.subClassOf, None) in g:\n",
    "            for ob in g.objects(s, RDFS.subClassOf):\n",
    "                adj[wm[s]][wm[ob]] = 1\n",
    "                pdj[wm[s]][wm[ob]] = wm[RDFS.subClassOf]\n",
    "\n",
    "                adj[wm[ob]][wm[s]] = -1\n",
    "                pdj[wm[ob]][wm[s]] = wm[RDFS.subClassOf]\n",
    "\n",
    "    return ents, adj, pdj.long()\n",
    "\n",
    "\n",
    "def build_adj_lstc(g):\n",
    "    ents = list(get_vocab(g))\n",
    "\n",
    "    random.shuffle(ents)\n",
    "    l = len(ents)\n",
    "    adj = dict()\n",
    "    pdj = dict()\n",
    "\n",
    "    wm = WordMap(ents)\n",
    "\n",
    "    for s, p, o in g:\n",
    "\n",
    "        adj.setdefault(wm[s], dict())[wm[o]] = 1\n",
    "        pdj.setdefault(wm[s], dict())[wm[o]] = wm[p]\n",
    "\n",
    "        if (s, RDFS.domain, None) in g and (s, RDFS.range, None) in g:\n",
    "            domain = g.value(s, RDFS.domain)\n",
    "            rg = g.value(s, RDFS.range)\n",
    "\n",
    "            adj.setdefault(wm[domain], dict())[wm[rg]] = 1\n",
    "            pdj[wm[s]][wm[o]] = wm[s]\n",
    "\n",
    "            adj.setdefault(wm[rg], dict())[wm[domain]] = -1\n",
    "            pdj.setdefault(wm[rg], dict())[wm[domain]] = wm[s]\n",
    "\n",
    "        if (s, RDFS.subClassOf, None) in g:\n",
    "            for ob in g.objects(s, RDFS.subClassOf):\n",
    "                adj[wm[s]][wm[ob]] = 1\n",
    "                pdj[wm[s]][wm[ob]] = wm[RDFS.subClassOf]\n",
    "\n",
    "                adj.setdefault(wm[ob], dict())[wm[s]] = -1\n",
    "                pdj.setdefault(wm[ob], dict())[wm[s]] = wm[RDFS.subClassOf]\n",
    "\n",
    "    return ents, adj, pdj\n"
   ],
   "metadata": {
    "collapsed": false,
    "pycharm": {
     "name": "#%%\n"
    }
   }
  },
  {
   "cell_type": "code",
   "execution_count": 4,
   "outputs": [
    {
     "data": {
      "text/plain": "  0%|          | 0/99 [00:00<?, ?it/s]",
      "application/vnd.jupyter.widget-view+json": {
       "version_major": 2,
       "version_minor": 0,
       "model_id": "c1237110773744d48a722c8f57c7cc6d"
      }
     },
     "metadata": {},
     "output_type": "display_data"
    },
    {
     "name": "stdout",
     "output_type": "stream",
     "text": [
      "18612 instances. 8910 true, 9702 false.\n"
     ]
    },
    {
     "data": {
      "text/plain": "  0%|          | 0/99 [00:00<?, ?it/s]",
      "application/vnd.jupyter.widget-view+json": {
       "version_major": 2,
       "version_minor": 0,
       "model_id": "c08f3fd9471041a6b4aaa6f9035038d2"
      }
     },
     "metadata": {},
     "output_type": "display_data"
    },
    {
     "name": "stdout",
     "output_type": "stream",
     "text": [
      "18612 instances. 8910 true, 9702 false.\n"
     ]
    },
    {
     "data": {
      "text/plain": "  0%|          | 0/155 [00:00<?, ?it/s]",
      "application/vnd.jupyter.widget-view+json": {
       "version_major": 2,
       "version_minor": 0,
       "model_id": "6ebeb268ea51476db10bdfacdc228629"
      }
     },
     "metadata": {},
     "output_type": "display_data"
    },
    {
     "name": "stdout",
     "output_type": "stream",
     "text": [
      "47120 instances. 23250 true, 23870 false.\n"
     ]
    },
    {
     "data": {
      "text/plain": "  0%|          | 0/297 [00:00<?, ?it/s]",
      "application/vnd.jupyter.widget-view+json": {
       "version_major": 2,
       "version_minor": 0,
       "model_id": "fdd95472c57d493b9ab8a0504fa6c98c"
      }
     },
     "metadata": {},
     "output_type": "display_data"
    },
    {
     "name": "stdout",
     "output_type": "stream",
     "text": [
      "171072 instances. 83160 true, 87912 false.\n"
     ]
    },
    {
     "data": {
      "text/plain": "  0%|          | 0/124 [00:00<?, ?it/s]",
      "application/vnd.jupyter.widget-view+json": {
       "version_major": 2,
       "version_minor": 0,
       "model_id": "2769d82337bf4f0193c091b98af43dad"
      }
     },
     "metadata": {},
     "output_type": "display_data"
    },
    {
     "name": "stdout",
     "output_type": "stream",
     "text": [
      "33852 instances. 18600 true, 15252 false.\n"
     ]
    },
    {
     "data": {
      "text/plain": "  0%|          | 0/247 [00:00<?, ?it/s]",
      "application/vnd.jupyter.widget-view+json": {
       "version_major": 2,
       "version_minor": 0,
       "model_id": "ea26557c3b83455ab0ac4a40d01ef234"
      }
     },
     "metadata": {},
     "output_type": "display_data"
    },
    {
     "name": "stdout",
     "output_type": "stream",
     "text": [
      "122512 instances. 61750 true, 60762 false.\n"
     ]
    },
    {
     "data": {
      "text/plain": "  0%|          | 0/89 [00:00<?, ?it/s]",
      "application/vnd.jupyter.widget-view+json": {
       "version_major": 2,
       "version_minor": 0,
       "model_id": "09ced846bd43429ab144328628565b57"
      }
     },
     "metadata": {},
     "output_type": "display_data"
    },
    {
     "name": "stdout",
     "output_type": "stream",
     "text": [
      "21182 instances. 13350 true, 7832 false.\n"
     ]
    }
   ],
   "source": [
    "g1 = Graph()\n",
    "g1.parse('conference/cmt.owl')\n",
    "\n",
    "remove_bn(g1)\n",
    "\n",
    "g2 = Graph()\n",
    "g2.parse('conference/confOf.owl')\n",
    "\n",
    "remove_bn(g2)\n",
    "\n",
    "g3 = Graph()\n",
    "g3.parse('conference/Conference.owl')\n",
    "\n",
    "remove_bn(g3)\n",
    "\n",
    "g4 = Graph()\n",
    "g4.parse('conference/edas.owl')\n",
    "\n",
    "remove_bn(g4)\n",
    "\n",
    "g5 = Graph()\n",
    "g5.parse('conference/ekaw.owl')\n",
    "\n",
    "remove_bn(g5)\n",
    "\n",
    "g6 = Graph()\n",
    "g6.parse('conference/iasted.owl')\n",
    "\n",
    "remove_bn(g6)\n",
    "\n",
    "g7 = Graph()\n",
    "g7.parse('conference/sigkdd.owl')\n",
    "\n",
    "remove_bn(g7)\n",
    "\n",
    "als1 = set(map(lambda x: (x, x), set(g1.subjects())))\n",
    "als2 = set(map(lambda x: (x, x), set(g2.subjects())))\n",
    "als3 = set(map(lambda x: (x, x), set(g3.subjects())))\n",
    "als4 = set(map(lambda x: (x, x), set(g4.subjects())))\n",
    "als5 = set(map(lambda x: (x, x), set(g5.subjects())))\n",
    "als6 = set(map(lambda x: (x, x), set(g6.subjects())))\n",
    "als7 = set(map(lambda x: (x, x), set(g7.subjects())))\n",
    "\n",
    "datasets = [\n",
    "    MDataset('dts1', als1, g1, g1, tb=90, fb=1, cache=False),\n",
    "    MDataset('dts1', als2, g2, g2, tb=90, fb=1, cache=False),\n",
    "    MDataset('dts1', als3, g3, g3, tb=150, fb=1, cache=False),\n",
    "    MDataset('dts1', als4, g4, g4, tb=280, fb=1, cache=False),\n",
    "    MDataset('dts1', als5, g5, g5, tb=150, fb=1, cache=False),\n",
    "    MDataset('dts1', als6, g6, g6, tb=250, fb=1, cache=False),\n",
    "    MDataset('dts1', als7, g7, g7, tb=150, fb=1, cache=False)\n",
    "]"
   ],
   "metadata": {
    "collapsed": false,
    "pycharm": {
     "name": "#%%\n"
    }
   }
  },
  {
   "cell_type": "code",
   "execution_count": 8,
   "outputs": [],
   "source": [
    "class GNAH(nn.Module):\n",
    "\n",
    "    def __init__(self, emblen):\n",
    "        super().__init__()\n",
    "        self.emblen = emblen\n",
    "        self.w = nn.Linear(emblen, emblen, bias=False)\n",
    "        self.a = nn.Linear(emblen * 2, 1)\n",
    "        self.lrelu = nn.LeakyReLU(negative_slope=0.2)\n",
    "        self.pc = nn.Linear(emblen * 2, emblen)\n",
    "\n",
    "\n",
    "\n",
    "    def run_lst(self, embs, adj, device=torch.device('cpu')):\n",
    "\n",
    "        res = dict()\n",
    "\n",
    "        for e in adj:\n",
    "            adje = list(map(lambda x: torch.cat([embs[x[0]], embs[x[1]]], dim=1) * x[2], adj[e]))\n",
    "            adje = torch.cat(adje).to(device)\n",
    "            adje = self.lrelu(self.pc(adje))\n",
    "            pc = self.w(adje)\n",
    "            embe = embs[e].to(device)\n",
    "            wf = self.w(embe)\n",
    "            rm = wf.repeat(pc.shape[0], 1)\n",
    "\n",
    "            mf = self.lrelu(self.a(torch.cat([rm, pc], dim=1)))\n",
    "            mf = torch.softmax(mf, dim=1)\n",
    "\n",
    "            cf = adje * mf\n",
    "            cf = torch.sum(cf, dim=0, keepdim=True)\n",
    "            res[e] = torch.cat([embe, cf], dim=1)\n",
    "\n",
    "        return res\n",
    "\n",
    "    def run_lsta(self, embs, adj, pde, device=torch.device('cpu')):\n",
    "        res = dict()\n",
    "\n",
    "        for i in range(len(embs)):\n",
    "            n = []\n",
    "            p = []\n",
    "            h = embs[i].unsqueeze(0)\n",
    "            if i in adj:\n",
    "\n",
    "                for k in adj[i]:\n",
    "                    n.append(embs[k].unsqueeze(0))\n",
    "                    if k in pde[i]:\n",
    "                        p.append(embs[pde[i][k]].unsqueeze(0))\n",
    "                    else:\n",
    "                        p.append(torch.zeros((1, 300)).to(device))\n",
    "\n",
    "                n = torch.cat(n)\n",
    "                p = torch.cat(p)\n",
    "\n",
    "                pcq = self.w(self.lrelu(self.pc(torch.cat([self.w(n.to(device)), p.to(device)], dim=1))))\n",
    "                mfq = self.lrelu(self.a(torch.cat([self.w(h.repeat(pcq.shape[0], 1).to(device)), pcq], dim=1)))\n",
    "                mfq = torch.softmax(mfq, dim=0)\n",
    "                cemb = torch.sum(mfq * n.to(device), dim=0, keepdim=True)\n",
    "            else:\n",
    "                cemb = torch.zeros((1, 300)).to(device)\n",
    "            res[i] = torch.cat([h.to(device), cemb], dim=1)\n",
    "\n",
    "        return res\n",
    "\n",
    "\n",
    "class MHAG(nn.Module):\n",
    "\n",
    "    def __init__(self, emblen, heads):\n",
    "        super().__init__()\n",
    "        self.emblen = emblen\n",
    "        self.heads = nn.ModuleList([GNAH(emblen) for _ in range(heads)])\n",
    "        self.ch = nn.Linear(emblen * heads * 2, emblen)\n",
    "\n",
    "    def run_lst(self, embs, adj, device=torch.device('cpu')):\n",
    "        res = [h.run_lst(embs, adj, device) for h in self.heads]\n",
    "\n",
    "        rm = dict()\n",
    "        for r in res:\n",
    "            for e in r:\n",
    "                rm.setdefault(e, []).append(r[e])\n",
    "\n",
    "\n",
    "        for e in rm:\n",
    "            ce = torch.cat(rm[e], dim=1)\n",
    "            ce = self.ch(ce)\n",
    "            rm[e] = ce\n",
    "\n",
    "        return rm\n",
    "\n",
    "\n",
    "    def run_lsta(self, embs, adj, pdj, device=torch.device('cpu')):\n",
    "        res = [h.run_lsta(embs, adj, pdj, device) for h in self.heads]\n",
    "\n",
    "        rm = dict()\n",
    "        for r in res:\n",
    "            for e in r:\n",
    "                rm.setdefault(e, []).append(r[e])\n",
    "\n",
    "\n",
    "        for e in rm:\n",
    "            ce = torch.cat(rm[e], dim=1)\n",
    "            ce = self.ch(ce)\n",
    "            rm[e] = ce\n",
    "\n",
    "        return rm\n",
    "\n",
    "\n",
    "class GNN(nn.Module):\n",
    "\n",
    "    def __init__(self, emblen, heads, nodes):\n",
    "        super().__init__()\n",
    "        self.emblen = emblen\n",
    "        self.heads = heads\n",
    "        self.nodes = nodes\n",
    "        self.an = nn.ModuleList([MHAG(emblen, heads) for _ in range(nodes)])\n",
    "\n",
    "\n",
    "    def run_lst(self, embs, adj, device=torch.device('cpu')):\n",
    "        res = embs\n",
    "\n",
    "        for n in self.an:\n",
    "            res = n.run_lst(res, adj, device)\n",
    "\n",
    "        return res\n",
    "\n",
    "\n",
    "    def run_lsta(self, embs, adj, pdj, device=torch.device('cpu')):\n",
    "        res = embs\n",
    "\n",
    "        for n in self.an:\n",
    "            res = n.run_lsta(embs, adj, pdj, device)\n",
    "\n",
    "        return res\n",
    "\n",
    "\n",
    "\n",
    "\n",
    "class KGOME:\n",
    "\n",
    "    def __init__(self):\n",
    "        self.glove = Magnitude('/home/guilherme/Documents/kg/glove.magnitude')\n",
    "        self.emblen = 300\n",
    "        pass\n",
    "\n",
    "\n",
    "    def load(self, path):\n",
    "        self.gnn = GNN(self.emblen, 2, 1)\n",
    "        self.gnn.load_state_dict(torch.load(path, map_location=torch.device('cpu')))\n",
    "\n",
    "\n",
    "    def emb_ents(self, ents, g):\n",
    "        embs = []\n",
    "\n",
    "        for i in range(len(ents)):\n",
    "            e = ents[i]\n",
    "\n",
    "            if type(e) is BNode:\n",
    "                emb = torch.zeros((1, 300))\n",
    "\n",
    "            elif type(e) is Literal:\n",
    "                words = split_entity(e)\n",
    "                if len(words) > 0:\n",
    "                    emb = sum(map(lambda x: torch.Tensor([list(self.glove.query(x.lower()))]), words)) / len(words)\n",
    "                else:\n",
    "                    emb = torch.zeros((1, 300))\n",
    "            else:\n",
    "\n",
    "                n = e.n3(g.namespace_manager)\n",
    "                if n.startswith('<'):\n",
    "                    n = n.split('/')[-1]\n",
    "                else:\n",
    "                    n = n.split(':')[-1]\n",
    "\n",
    "                words = split_entity(n)\n",
    "                if len(words) > 0:\n",
    "                    emb = sum(map(lambda x: torch.Tensor([list(self.glove.query(x.lower()))]), words)) / len(words)\n",
    "                else:\n",
    "                    emb = torch.zeros((1, 300))\n",
    "            embs.append(emb)\n",
    "        return torch.cat(embs)\n",
    "\n",
    "\n",
    "\n",
    "    def build_lst(self, g):\n",
    "        res = dict()\n",
    "\n",
    "        for s, p, o in g:\n",
    "            res.setdefault(s, set()).add((p, o, 1))\n",
    "\n",
    "            if (s, RDFS.domain, None) in g and (s, RDFS.range, None) in g:\n",
    "                domain = g.value(s, RDFS.domain)\n",
    "                rg = g.value(s, RDFS.range)\n",
    "\n",
    "                res.setdefault(domain, set()).add((s, rg, 1))\n",
    "                res.setdefault(rg, set()).add((s, domain, -1))\n",
    "\n",
    "            if (s, RDFS.subClassOf, None) in g:\n",
    "                for ob in g.objects(s, RDFS.subClassOf):\n",
    "                    res.setdefault(s, set()).add((RDFS.subClassOf, ob, 1))\n",
    "                    res.setdefault(ob, set()).add((RDFS.subClassOf, s, -1))\n",
    "\n",
    "        return res\n",
    "\n",
    "\n",
    "    def embed_lsta(self, g, device=torch.device('cpu')):\n",
    "        ents1, adj1, pdj1 = build_adj_lstc(g)\n",
    "\n",
    "        embs1 = self.emb_ents(ents1, g)\n",
    "\n",
    "        self.gnn.to(device)\n",
    "        with torch.no_grad():\n",
    "            m1 = self.gnn.run_lsta(embs1.to(device), adj1, pdj1)\n",
    "\n",
    "        return ents1, m1\n",
    "\n",
    "\n",
    "    def split_filter(self, text):\n",
    "        words = set(split_entity(text))\n",
    "        words_lower = map(lambda x: x.lower(), words)\n",
    "        words_filter = filter(lambda x: x not in STOPWORDS and not x.isdigit(), words_lower)\n",
    "        return list(words_filter)\n",
    "\n",
    "    def embed_sentence(self, words):\n",
    "        result = []\n",
    "\n",
    "        for word in words:\n",
    "            emb = self.glove.query(word)\n",
    "            emb = torch.Tensor([list(emb)])\n",
    "            result.append(emb)\n",
    "\n",
    "        return torch.cat(result, dim=0).mean(dim=0, keepdim=True)\n",
    "\n",
    "\n",
    "    def emb_ents_lst(self, ents, g, device=torch.device('cpu')):\n",
    "        embs = dict()\n",
    "\n",
    "        for e in ents:\n",
    "\n",
    "            if type(e) is BNode:\n",
    "                emb = torch.zeros((1, 300))\n",
    "\n",
    "            elif type(e) is Literal:\n",
    "                words = split_entity(e)\n",
    "                emb = sum(map(lambda x: torch.Tensor([list(self.glove.query(x.lower()))]), words)) / len(words)\n",
    "            else:\n",
    "\n",
    "                n = e.n3(g.namespace_manager)\n",
    "                if n.startswith('<'):\n",
    "                    n = n.split('/')[-1]\n",
    "                else:\n",
    "                    n = n.split(':')[-1]\n",
    "\n",
    "                words = split_entity(n)\n",
    "                if len(words) <= 0:\n",
    "                    emb = torch.zeros((1, 300))\n",
    "                else:\n",
    "                    emb = sum(map(lambda x: torch.Tensor([list(self.glove.query(x.lower()))]), words)) / len(words)\n",
    "\n",
    "            embs[e] = emb\n",
    "        return embs\n",
    "\n",
    "\n",
    "    def fit_lst(self, datasets, device=torch.device('cpu')):\n",
    "\n",
    "        epochs = 3\n",
    "        lr = 0.0003\n",
    "\n",
    "        crit = nn.CosineEmbeddingLoss(margin=0.4)\n",
    "\n",
    "        self.gnn = GNN(self.emblen, 2, 1)\n",
    "        self.gnn.to(device)\n",
    "        optimizer = optim.Adam(self.gnn.parameters(), lr=lr)\n",
    "        lh = []\n",
    "        bs = 256\n",
    "        sizes = sum(map(lambda x: math.ceil(len(x) / bs), datasets))\n",
    "        sizes *= epochs\n",
    "        progress = tqdm(total=sizes)\n",
    "\n",
    "        for epcq in range(epochs):\n",
    "            el = 0\n",
    "            for data in datasets:\n",
    "\n",
    "                dl = 0\n",
    "\n",
    "\n",
    "                ents1 = get_vocab(data.g1)\n",
    "                ents2 = get_vocab(data.g1)\n",
    "                embs1 = self.emb_ents_lst(ents1, data.g1)\n",
    "                embs2 = self.emb_ents_lst(ents2, data.g2)\n",
    "                adjm1 = self.build_lst(data.g1)\n",
    "                adjm2 = self.build_lst(data.g2)\n",
    "\n",
    "                for e1, e2, s in DataLoader(data, batch_size=bs):\n",
    "                    optimizer.zero_grad()\n",
    "\n",
    "                    m1 = self.gnn.run_lst(embs1, adjm1, device)\n",
    "                    m2 = self.gnn.run_lst(embs2, adjm2, device)\n",
    "\n",
    "                    r1 = list(map(lambda x: m1[x], e1))\n",
    "                    r2 = list(map(lambda x: m2[x], e2))\n",
    "\n",
    "                    r1 = torch.cat(r1).to(torch.device('cpu'))\n",
    "                    r2 = torch.cat(r2).to(torch.device('cpu'))\n",
    "\n",
    "                    loss = crit(r1, r2, s.flatten())\n",
    "                    loss.backward()\n",
    "\n",
    "                    optimizer.step()\n",
    "                    dl += loss.item()\n",
    "\n",
    "                    progress.update(1)\n",
    "                    # break\n",
    "\n",
    "                dl /= (len(data) / bs)\n",
    "                el += dl\n",
    "\n",
    "                # break\n",
    "\n",
    "            el /= len(datasets)\n",
    "            lh.append(el)\n",
    "            torch.save(self.gnn.state_dict(), f'gnn-conf-{epcq}.pt')\n",
    "            # break\n",
    "\n",
    "        plt.plot(lh)\n",
    "        plt.show()\n"
   ],
   "metadata": {
    "collapsed": false,
    "pycharm": {
     "name": "#%%\n"
    }
   }
  },
  {
   "cell_type": "code",
   "execution_count": 9,
   "outputs": [],
   "source": [
    "kgome = KGOME()\n",
    "kgome.load('gnn-cp-conf-2.pt')"
   ],
   "metadata": {
    "collapsed": false,
    "pycharm": {
     "name": "#%%\n"
    }
   }
  },
  {
   "cell_type": "code",
   "execution_count": 51,
   "outputs": [
    {
     "data": {
      "text/plain": "  0%|          | 0/5085 [00:00<?, ?it/s]",
      "application/vnd.jupyter.widget-view+json": {
       "version_major": 2,
       "version_minor": 0,
       "model_id": "03d0e74cb4584dc5af508b3629e84715"
      }
     },
     "metadata": {},
     "output_type": "display_data"
    },
    {
     "data": {
      "text/plain": "<Figure size 432x288 with 1 Axes>",
      "image/png": "[encoded data removed]"
     },
     "metadata": {
      "needs_background": "light"
     },
     "output_type": "display_data"
    }
   ],
   "source": [
    "kgome.fit_lst(datasets)"
   ],
   "metadata": {
    "collapsed": false,
    "pycharm": {
     "name": "#%%\n"
    }
   }
  },
  {
   "cell_type": "code",
   "execution_count": 5,
   "outputs": [],
   "source": [
    "def eval_result(result, rang):\n",
    "    if len(result) <= 1:\n",
    "        result[0].drop('name', axis=1).mean().plot.bar(rot=0)\n",
    "        f = [0]\n",
    "    else:\n",
    "        p = []\n",
    "        r = []\n",
    "        f = []\n",
    "\n",
    "        for q in result:\n",
    "            v = q.drop('name', axis=1).mean()\n",
    "\n",
    "            p.append(v['precision'])\n",
    "            r.append(v['recall'])\n",
    "            f.append(v['f1'])\n",
    "\n",
    "        plt.figure(figsize=(10, 5))\n",
    "        plt.plot(rang, p, c='r')\n",
    "        plt.plot(rang, r, c='g')\n",
    "        plt.plot(rang, f, c='b')\n",
    "        plt.show()\n",
    "\n",
    "    print(rang[np.argmax(f)])\n",
    "    print_result(result[np.argmax(f)])\n",
    "\n",
    "    rd = dict()\n",
    "\n",
    "    for n in result[0]['name'].unique():\n",
    "        l = result[0][result[0]['name'] == n].copy()\n",
    "        l['th'] = 0\n",
    "        rd[n] = l\n",
    "\n",
    "    for i in range(len(rang)):\n",
    "        for n in result[i]['name'].unique():\n",
    "            l = result[i][result[i]['name'] == n].copy()\n",
    "            l['th'] = rang[i]\n",
    "\n",
    "            if l['f1'].iloc[0] > rd[n]['f1'].iloc[0]:\n",
    "                rd[n] = l\n",
    "\n",
    "    print('\\n\\noracle th ---------------------')\n",
    "    print_result(pd.concat(rd.values()))\n",
    "\n",
    "\n",
    "\n"
   ],
   "metadata": {
    "collapsed": false,
    "pycharm": {
     "name": "#%%\n"
    }
   }
  },
  {
   "cell_type": "code",
   "execution_count": 10,
   "outputs": [],
   "source": [
    "rang = np.arange(0.1, 1, 0.01)\n",
    "\n",
    "class LstMatcher(Step):\n",
    "\n",
    "    def __init__(self):\n",
    "        self.cross = Cross()\n",
    "\n",
    "    def forward(self, dataset, i):\n",
    "        ents = self.cross(dataset)\n",
    "\n",
    "        kgome.gnn.to(torch.device('cpu'))\n",
    "        with torch.no_grad():\n",
    "            ents1, m1 = kgome.embed_lsta(dataset.g1)\n",
    "            ents2, m2 = kgome.embed_lsta(dataset.g2)\n",
    "\n",
    "        wi1 = WordMap(ents1)\n",
    "        wi2 = WordMap(ents2)\n",
    "\n",
    "        res = [[] for r in rang]\n",
    "        for e1, e2 in ents:\n",
    "\n",
    "            r1 = m1[wi1[e1]]\n",
    "            r2 = m2[wi2[e2]]\n",
    "            s = F.cosine_similarity(r1, r2)\n",
    "            s = s.item()\n",
    "            for i in range(len(rang)):\n",
    "                sim = 1 if s > rang[i] else 0\n",
    "                res[i].append((e1, e2, sim))\n",
    "\n",
    "        return res, {}\n",
    "\n"
   ],
   "metadata": {
    "collapsed": false,
    "pycharm": {
     "name": "#%%\n"
    }
   }
  },
  {
   "cell_type": "code",
   "execution_count": 11,
   "outputs": [
    {
     "name": "stdout",
     "output_type": "stream",
     "text": [
      "====================================================================================================\n",
      "kgome\n",
      "====================================================================================================\n"
     ]
    },
    {
     "data": {
      "text/plain": "  0%|          | 0/21 [00:00<?, ?it/s]",
      "application/vnd.jupyter.widget-view+json": {
       "version_major": 2,
       "version_minor": 0,
       "model_id": "239c477119314309865ddaaa8f53619f"
      }
     },
     "metadata": {},
     "output_type": "display_data"
    },
    {
     "data": {
      "text/plain": "<Figure size 720x360 with 1 Axes>",
      "image/png": "[encoded data removed]"
     },
     "metadata": {
      "needs_background": "light"
     },
     "output_type": "display_data"
    },
    {
     "name": "stdout",
     "output_type": "stream",
     "text": [
      "0.8599999999999995\n",
      "                     name  precision    recall        f1\n",
      "0   conference-iasted.rdf   0.666667  0.166667  0.266667\n",
      "1         ekaw-iasted.rdf   0.857143  0.428571  0.571429\n",
      "2      cmt-conference.rdf   0.750000  0.250000  0.375000\n",
      "3          cmt-iasted.rdf   0.800000  1.000000  0.888889\n",
      "4         confOf-ekaw.rdf   0.846154  0.379310  0.523810\n",
      "5           edas-ekaw.rdf   0.647059  0.314286  0.423077\n",
      "6       confOf-iasted.rdf   0.833333  0.384615  0.526316\n",
      "7     conference-ekaw.rdf   0.714286  0.250000  0.370370\n",
      "8            cmt-ekaw.rdf   0.833333  0.294118  0.434783\n",
      "9         edas-iasted.rdf   0.875000  0.225806  0.358974\n",
      "10        edas-sigkdd.rdf   1.000000  0.304348  0.466667\n",
      "11         cmt-confOf.rdf   0.571429  0.142857  0.228571\n",
      "12      confOf-sigkdd.rdf   1.000000  0.400000  0.571429\n",
      "13        ekaw-sigkdd.rdf   1.000000  0.466667  0.636364\n",
      "14         cmt-sigkdd.rdf   0.800000  0.500000  0.615385\n",
      "15    conference-edas.rdf   0.666667  0.416667  0.512821\n",
      "16           cmt-edas.rdf   1.000000  0.444444  0.615385\n",
      "17      iasted-sigkdd.rdf   0.750000  0.666667  0.705882\n",
      "18  conference-sigkdd.rdf   0.888889  0.363636  0.516129\n",
      "19        confOf-edas.rdf   0.555556  0.357143  0.434783\n",
      "20  conference-confOf.rdf   0.818182  0.473684  0.600000\n",
      "precision    0.803509\n",
      "recall       0.391880\n",
      "f1           0.506797\n",
      "dtype: float64\n",
      "\n",
      "\n",
      "oracle th ---------------------\n",
      "                     name  precision    recall        f1    th\n",
      "0   conference-iasted.rdf   0.714286  0.217391  0.333333  0.78\n",
      "1         ekaw-iasted.rdf   1.000000  0.428571  0.600000  0.87\n",
      "2      cmt-conference.rdf   0.750000  0.250000  0.375000  0.85\n",
      "3          cmt-iasted.rdf   0.800000  1.000000  0.888889  0.86\n",
      "4         confOf-ekaw.rdf   0.615385  0.666667  0.640000  0.77\n",
      "5           edas-ekaw.rdf   0.454545  0.483871  0.468750  0.76\n",
      "6       confOf-iasted.rdf   0.857143  0.500000  0.631579  0.83\n",
      "7     conference-ekaw.rdf   0.733333  0.282051  0.407407  0.85\n",
      "8            cmt-ekaw.rdf   0.583333  0.466667  0.518519  0.77\n",
      "9         edas-iasted.rdf   0.615385  0.266667  0.372093  0.81\n",
      "10        edas-sigkdd.rdf   1.000000  0.304348  0.466667  0.85\n",
      "11         cmt-confOf.rdf   0.636364  0.280000  0.388889  0.74\n",
      "12      confOf-sigkdd.rdf   1.000000  0.400000  0.571429  0.81\n",
      "13        ekaw-sigkdd.rdf   1.000000  0.466667  0.636364  0.83\n",
      "14         cmt-sigkdd.rdf   0.818182  0.600000  0.692308  0.80\n",
      "15    conference-edas.rdf   0.900000  0.360000  0.514286  0.90\n",
      "16           cmt-edas.rdf   0.900000  0.529412  0.666667  0.84\n",
      "17      iasted-sigkdd.rdf   0.800000  0.666667  0.727273  0.88\n",
      "18  conference-sigkdd.rdf   0.900000  0.428571  0.580645  0.77\n",
      "19        confOf-edas.rdf   0.480000  0.461538  0.470588  0.81\n",
      "20  conference-confOf.rdf   0.611111  0.647059  0.628571  0.74\n",
      "precision    0.769956\n",
      "recall       0.462197\n",
      "f1           0.551393\n",
      "dtype: float64\n"
     ]
    }
   ],
   "source": [
    "print('=' * 100)\n",
    "print('kgome')\n",
    "print('=' * 100)\n",
    "\n",
    "runner = Runner('conference', 'reference', matcher=LstMatcher())\n",
    "result = runner.run(parallel=False)\n",
    "\n",
    "eval_result(result, rang)"
   ],
   "metadata": {
    "collapsed": false,
    "pycharm": {
     "name": "#%%\n"
    }
   }
  },
  {
   "cell_type": "code",
   "execution_count": null,
   "outputs": [],
   "source": [
    "class GloveMatcher(Step):\n",
    "\n",
    "    def __init__(self):\n",
    "        self.cross = Cross()\n",
    "        self.glove = kgome.glove\n",
    "\n",
    "    def forward(self, dataset, i):\n",
    "        g1 = dataset.g1\n",
    "        g2 = dataset.g2\n",
    "\n",
    "        remove_bn(g1)\n",
    "        remove_bn(g2)\n",
    "\n",
    "        ents1 = set(g1.subjects())\n",
    "        ents2 = set(g2.subjects())\n",
    "\n",
    "        m1 = dict()\n",
    "\n",
    "        for e1 in ents1:\n",
    "            n1 = e1.n3(g1.namespace_manager)\n",
    "            n1 = map(lambda x: x.lower(), split_entity(n1))\n",
    "            n1 = list(map(lambda x: torch.Tensor([list(self.glove.query(x.lower()))]), n1))\n",
    "            ln = len(n1)\n",
    "            sv = sum(n1) / ln\n",
    "\n",
    "            m1[e1] = sv.squeeze(0)\n",
    "\n",
    "        m2 = dict()\n",
    "\n",
    "        for e1 in ents2:\n",
    "            n1 = e1.n3(g2.namespace_manager)\n",
    "            n1 = map(lambda x: x.lower(), split_entity(n1))\n",
    "            n1 = list(map(lambda x: torch.Tensor([list(self.glove.query(x.lower()))]), n1))\n",
    "            ln = len(n1)\n",
    "            sv = sum(n1) / ln\n",
    "\n",
    "            m2[e1] = sv.squeeze(0)\n",
    "\n",
    "        ents = self.cross(dataset)\n",
    "\n",
    "        res = [[] for r in rang]\n",
    "        for e1, e2 in ents:\n",
    "\n",
    "            r1 = m1[e1]\n",
    "            r2 = m2[e2]\n",
    "\n",
    "            s = F.cosine_similarity(r1.unsqueeze(0), r2.unsqueeze(0)).item()\n",
    "            for i in range(len(rang)):\n",
    "                sim = 1 if s > rang[i] else 0\n",
    "                res[i].append((e1, e2, sim))\n",
    "\n",
    "        return res, {}"
   ],
   "metadata": {
    "collapsed": false,
    "pycharm": {
     "name": "#%%\n"
    }
   }
  },
  {
   "cell_type": "code",
   "execution_count": null,
   "outputs": [],
   "source": [
    "print('=' * 100)\n",
    "print('glove')\n",
    "print('=' * 100)\n",
    "\n",
    "runner = Runner('/moredata/gsantos/canard/conference', '/moredata/gsantos/canard/reference', matcher=GloveMatcher())\n",
    "result = runner.run(parallel=False)\n",
    "eval_result(result, rang)"
   ],
   "metadata": {
    "collapsed": false,
    "pycharm": {
     "name": "#%%\n"
    }
   }
  },
  {
   "cell_type": "code",
   "execution_count": 76,
   "outputs": [],
   "source": [
    "base = '/home/guilherme/IdeaProjects/conference-dataset-population-elodie/populated_datasets/data_100'"
   ],
   "metadata": {
    "collapsed": false,
    "pycharm": {
     "name": "#%%\n"
    }
   }
  },
  {
   "cell_type": "code",
   "execution_count": 82,
   "outputs": [
    {
     "data": {
      "text/plain": "  0%|          | 0/5 [00:00<?, ?it/s]",
      "application/vnd.jupyter.widget-view+json": {
       "version_major": 2,
       "version_minor": 0,
       "model_id": "0f7f81a6e49a4b6fad8d39636b47b35c"
      }
     },
     "metadata": {},
     "output_type": "display_data"
    },
    {
     "data": {
      "text/plain": "  0%|          | 0/88260 [00:00<?, ?it/s]",
      "application/vnd.jupyter.widget-view+json": {
       "version_major": 2,
       "version_minor": 0,
       "model_id": "d41db158e0c3412dafd383f43e209787"
      }
     },
     "metadata": {},
     "output_type": "display_data"
    },
    {
     "name": "stdout",
     "output_type": "stream",
     "text": [
      "88260 88260\n",
      "88260 88260\n"
     ]
    },
    {
     "data": {
      "text/plain": "  0%|          | 0/123045 [00:00<?, ?it/s]",
      "application/vnd.jupyter.widget-view+json": {
       "version_major": 2,
       "version_minor": 0,
       "model_id": "43fdb6b03c444a5a836943e96af58905"
      }
     },
     "metadata": {},
     "output_type": "display_data"
    },
    {
     "name": "stdout",
     "output_type": "stream",
     "text": [
      "123045 123045\n",
      "123045 123045\n"
     ]
    },
    {
     "data": {
      "text/plain": "  0%|          | 0/82774 [00:00<?, ?it/s]",
      "application/vnd.jupyter.widget-view+json": {
       "version_major": 2,
       "version_minor": 0,
       "model_id": "e252287a7a2d411d965146301fac6a7a"
      }
     },
     "metadata": {},
     "output_type": "display_data"
    },
    {
     "name": "stdout",
     "output_type": "stream",
     "text": [
      "82774 82774\n",
      "82774 82774\n"
     ]
    },
    {
     "data": {
      "text/plain": "  0%|          | 0/42807 [00:00<?, ?it/s]",
      "application/vnd.jupyter.widget-view+json": {
       "version_major": 2,
       "version_minor": 0,
       "model_id": "e38ad87358c64f4bab2d82c5877eb55a"
      }
     },
     "metadata": {},
     "output_type": "display_data"
    },
    {
     "name": "stdout",
     "output_type": "stream",
     "text": [
      "42807 42807\n",
      "42807 42807\n"
     ]
    },
    {
     "data": {
      "text/plain": "  0%|          | 0/47257 [00:00<?, ?it/s]",
      "application/vnd.jupyter.widget-view+json": {
       "version_major": 2,
       "version_minor": 0,
       "model_id": "1b80fef7262f4cb285cbd1df623bdff0"
      }
     },
     "metadata": {},
     "output_type": "display_data"
    },
    {
     "name": "stdout",
     "output_type": "stream",
     "text": [
      "47257 47257\n",
      "47257 47257\n"
     ]
    }
   ],
   "source": [
    "for p, d, f in os.walk(base):\n",
    "    for file in tqdm(f):\n",
    "        on = file.split('_')[0]\n",
    "\n",
    "\n",
    "        g1 = Graph()\n",
    "        g1.parse(base + f'/{on}_100.ttl')\n",
    "        g1.bind(f'{on}-instances', Namespace(f'http://{on}-instances#'))\n",
    "        nf = f'/home/guilherme/Documents/canard/run/kgome/{on}_n.txt'\n",
    "        ne = f'/home/guilherme/Documents/canard/run/kgome/{on}_e.txt'\n",
    "\n",
    "\n",
    "        ents, m1 = kgome.embed_lsta(g1)\n",
    "\n",
    "        nms = []\n",
    "        ems = []\n",
    "        for e in tqdm(m1):\n",
    "          nms.append(ents[e].replace('\\n', '\\\\n') + '\\n')\n",
    "          ems.append(str(list(m1[e][0].numpy()))[1:-1] + '\\n')\n",
    "\n",
    "\n",
    "        with open(nf, 'w') as f:\n",
    "          f.writelines(nms)\n",
    "\n",
    "        with open(ne, 'w') as f:\n",
    "          f.writelines(ems)\n",
    "\n",
    "        print(len(nms), len(ems))\n",
    "\n",
    "\n",
    "        with open(nf, 'r') as f:\n",
    "          nl = f.readlines()\n",
    "\n",
    "        with open(ne, 'r') as f:\n",
    "          el = f.readlines()\n",
    "\n",
    "\n",
    "        print(len(el), len(nl))"
   ],
   "metadata": {
    "collapsed": false,
    "pycharm": {
     "name": "#%%\n"
    }
   }
  }
 ],
 "metadata": {
  "kernelspec": {
   "display_name": "Python 3",
   "language": "python",
   "name": "python3"
  },
  "language_info": {
   "codemirror_mode": {
    "name": "ipython",
    "version": 2
   },
   "file_extension": ".py",
   "mimetype": "text/x-python",
   "name": "python",
   "nbconvert_exporter": "python",
   "pygments_lexer": "ipython2",
   "version": "2.7.6"
  }
 },
 "nbformat": 4,
 "nbformat_minor": 0
}