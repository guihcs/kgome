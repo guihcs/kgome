{
 "cells": [
  {
   "cell_type": "code",
   "execution_count": 80,
   "metadata": {
    "collapsed": true,
    "pycharm": {
     "name": "#%%\n"
    }
   },
   "outputs": [],
   "source": [
    "from rdflib import Graph\n",
    "from gensim.parsing.preprocessing import STOPWORDS\n",
    "from om.ont import split_entity\n",
    "from om.ont import get_n\n",
    "from rdflib import Namespace, URIRef, Literal, BNode\n",
    "from tqdm import tqdm\n",
    "import os"
   ]
  },
  {
   "cell_type": "code",
   "execution_count": 56,
   "outputs": [],
   "source": [
    "base = '/home/guilherme/IdeaProjects/conference-dataset-population-elodie/populated_datasets/data_100'\n"
   ],
   "metadata": {
    "collapsed": false,
    "pycharm": {
     "name": "#%%\n"
    }
   }
  },
  {
   "cell_type": "code",
   "execution_count": 64,
   "outputs": [
    {
     "name": "stdout",
     "output_type": "stream",
     "text": [
      "cmt_100.ttl  conference_100.ttl  confOf_100.ttl  edas_100.ttl  ekaw_100.ttl\r\n"
     ]
    }
   ],
   "source": [
    "!ls /home/guilherme/IdeaProjects/conference-dataset-population-elodie/populated_datasets/data_100"
   ],
   "metadata": {
    "collapsed": false,
    "pycharm": {
     "name": "#%%\n"
    }
   }
  },
  {
   "cell_type": "code",
   "execution_count": 83,
   "outputs": [],
   "source": [
    "def filtern(x, g1):\n",
    "    if type(x) == URIRef:\n",
    "        n = get_n(x, g1)\n",
    "        words = split_entity(n)\n",
    "        words = map(lambda x: x.lower(), words)\n",
    "        return set(filter(lambda x: x not in STOPWORDS and not x.isdigit(), words))\n",
    "\n",
    "    elif type(x) == Literal:\n",
    "        words = split_entity(x)\n",
    "        words = map(lambda x: x.lower(), words)\n",
    "        return set(filter(lambda x: x not in STOPWORDS and not x.isdigit(), words))\n",
    "\n",
    "    return set()"
   ],
   "metadata": {
    "collapsed": false,
    "pycharm": {
     "name": "#%%\n"
    }
   }
  },
  {
   "cell_type": "code",
   "execution_count": 84,
   "outputs": [
    {
     "name": "stderr",
     "output_type": "stream",
     "text": [
      "100%|██████████| 372590/372590 [00:13<00:00, 28021.42it/s]\n",
      "100%|██████████| 403520/403520 [00:24<00:00, 16356.84it/s]\n",
      "100%|██████████| 343842/343842 [00:16<00:00, 20437.76it/s]\n",
      "100%|██████████| 257728/257728 [00:15<00:00, 16816.92it/s]\n",
      "100%|██████████| 248595/248595 [00:12<00:00, 19167.92it/s]\n"
     ]
    }
   ],
   "source": [
    "for p, d, f in os.walk(base):\n",
    "\n",
    "    for file in f:\n",
    "        on = file.split('_')[0]\n",
    "\n",
    "        g1 = Graph()\n",
    "        g1.parse(base + '/' + file)\n",
    "        g1.bind(f'{on}-instances', Namespace(f'http://{on}-instances#'))\n",
    "\n",
    "\n",
    "        sents = dict()\n",
    "\n",
    "        for s, p, o in tqdm(g1):\n",
    "\n",
    "            sents.setdefault(s, set()).update(filtern(s, g1))\n",
    "            sents.setdefault(s, set()).update(filtern(p, g1))\n",
    "            sents.setdefault(s, set()).update(filtern(o, g1))\n",
    "\n",
    "\n",
    "        lines = []\n",
    "\n",
    "        for k in sents:\n",
    "            line = ' '.join(sents[k]) + ' #' + str(k) + '\\n'\n",
    "            lines.append(line)\n",
    "\n",
    "        with open('starsp.txt', 'a') as f:\n",
    "            f.writelines(lines)"
   ],
   "metadata": {
    "collapsed": false,
    "pycharm": {
     "name": "#%%\n"
    }
   }
  }
 ],
 "metadata": {
  "kernelspec": {
   "display_name": "Python 3",
   "language": "python",
   "name": "python3"
  },
  "language_info": {
   "codemirror_mode": {
    "name": "ipython",
    "version": 2
   },
   "file_extension": ".py",
   "mimetype": "text/x-python",
   "name": "python",
   "nbconvert_exporter": "python",
   "pygments_lexer": "ipython2",
   "version": "2.7.6"
  }
 },
 "nbformat": 4,
 "nbformat_minor": 0
}